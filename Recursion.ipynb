{
 "cells": [
  {
   "cell_type": "code",
   "execution_count": 13,
   "id": "1dc06a34-6388-4f05-b029-65973e27ba63",
   "metadata": {},
   "outputs": [
    {
     "name": "stdin",
     "output_type": "stream",
     "text": [
      "Enter a number: 5\n"
     ]
    },
    {
     "name": "stdout",
     "output_type": "stream",
     "text": [
      "Factorial of 5 is 120\n"
     ]
    }
   ],
   "source": [
    "#factorial program                                      (15/07/2025)\n",
    "fact=1\n",
    "def factorial(s):\n",
    "    global fact\n",
    "    fact=1\n",
    "    for i in range(1,s+1):\n",
    "        fact *=i\n",
    "    return fact\n",
    "num=int(input(\"Enter a number:\"))\n",
    "if num<0:\n",
    "    prin(\"cannot derive fact for -ve numbers\")\n",
    "else:\n",
    "    factorial(num)\n",
    "    print(f\"Factorial of {num} is\",fact)"
   ]
  },
  {
   "cell_type": "code",
   "execution_count": 21,
   "id": "8bfa8315-2e4f-494c-8076-36579f151499",
   "metadata": {},
   "outputs": [
    {
     "name": "stdin",
     "output_type": "stream",
     "text": [
      "Enter the value: 6\n"
     ]
    },
    {
     "name": "stdout",
     "output_type": "stream",
     "text": [
      "720\n"
     ]
    }
   ],
   "source": [
    "#factorial using recursive fnct\n",
    "def factorial(n):\n",
    "    if n==0 or n==1:\n",
    "        return 1\n",
    "    return n* factorial(n-1)\n",
    "num=int(input(\"Enter the value:\"))\n",
    "value=factorial(num)\n",
    "print(value)"
   ]
  },
  {
   "cell_type": "code",
   "execution_count": 25,
   "id": "d805e07e-0753-4963-baa5-ec4d3e4dbf1a",
   "metadata": {},
   "outputs": [
    {
     "name": "stdin",
     "output_type": "stream",
     "text": [
      "Enter n: 5\n"
     ]
    },
    {
     "name": "stdout",
     "output_type": "stream",
     "text": [
      "sum of first 5 natural numbers is 15\n"
     ]
    }
   ],
   "source": [
    "def nsum(n):\n",
    "    if n==0:\n",
    "        return 0\n",
    "    return n+nsum(n-1)\n",
    "num=int(input(\"Enter n:\"))\n",
    "print(\"sum of first\", num ,\"natural numbers is\",nsum(num))"
   ]
  },
  {
   "cell_type": "code",
   "execution_count": 21,
   "id": "fceb864e-3499-4092-9f77-36675c4e7bbd",
   "metadata": {},
   "outputs": [
    {
     "name": "stdin",
     "output_type": "stream",
     "text": [
      "Enter a word Honey\n"
     ]
    },
    {
     "name": "stdout",
     "output_type": "stream",
     "text": [
      "yenoH\n"
     ]
    }
   ],
   "source": [
    "#recursion in strings\n",
    "def rstring(s):\n",
    "    if len(s)==0:\n",
    "        return s\n",
    "    return rstring(s[1:])+s[0]             #[1:]\n",
    "text=input(\"Enter a word\")\n",
    "print(rstring(text))"
   ]
  },
  {
   "cell_type": "code",
   "execution_count": 5,
   "id": "d423284b-7509-459b-88f2-c0df92a7c5de",
   "metadata": {},
   "outputs": [
    {
     "name": "stdin",
     "output_type": "stream",
     "text": [
      "Enter a word Ece\n"
     ]
    },
    {
     "name": "stdout",
     "output_type": "stream",
     "text": [
      "ecE\n"
     ]
    }
   ],
   "source": [
    "#Examples\n",
    "def rstring(text):\n",
    "    if len(text)==0:\n",
    "        return text\n",
    "    return rstring(text[1:])+text[0]             #s=text-----print(s[1:]) then it print exp as o/p\n",
    "text=input(\"Enter a word\")\n",
    "print(rstring(text))"
   ]
  },
  {
   "cell_type": "code",
   "execution_count": 13,
   "id": "fe20f860-cc02-4146-aa07-f2255176aa98",
   "metadata": {},
   "outputs": [
    {
     "name": "stdout",
     "output_type": "stream",
     "text": [
      "ello\n"
     ]
    }
   ],
   "source": [
    "s=\"hello\"\n",
    "print(s[1:])"
   ]
  },
  {
   "cell_type": "code",
   "execution_count": 47,
   "id": "ae2d0be0-0ba2-4440-befc-935f488aaf88",
   "metadata": {},
   "outputs": [
    {
     "name": "stdout",
     "output_type": "stream",
     "text": [
      "3\n",
      "6\n"
     ]
    }
   ],
   "source": [
    "#positional arg-----------------sym(*arg)\n",
    "def Sumnum(*args):\n",
    "    print(args[2])\n",
    "    return sum(args)\n",
    "print(Sumnum(1,2,3))"
   ]
  },
  {
   "cell_type": "code",
   "execution_count": 57,
   "id": "8f0c270e-0c24-4638-9ca9-07e162105c56",
   "metadata": {},
   "outputs": [
    {
     "name": "stdout",
     "output_type": "stream",
     "text": [
      "name:Vijay\n",
      "age:31\n",
      "cgpa:7.4\n"
     ]
    }
   ],
   "source": [
    "'''keyword args **kwargs'''\n",
    "def info(**kwargs):\n",
    "    for key, value in kwargs.items():\n",
    "        print(f\"{key}:{value}\")\n",
    "info(name='Vijay', age=31 , cgpa=7.4)"
   ]
  },
  {
   "cell_type": "code",
   "execution_count": 67,
   "id": "b05b780c-7183-4d3b-bcd4-881f1d8cbc25",
   "metadata": {},
   "outputs": [
    {
     "name": "stdout",
     "output_type": "stream",
     "text": [
      "Vijay\n",
      "Vijay\n",
      "Vijay\n"
     ]
    }
   ],
   "source": [
    "#to print specific name\n",
    "'''keyword args **kwargs'''\n",
    "def info(**kwargs):\n",
    "    for key, value in kwargs.items():\n",
    "        print(kwargs.get(\"name\"))\n",
    "info(name='Vijay', age=31 , cgpa=7.4)"
   ]
  },
  {
   "cell_type": "code",
   "execution_count": 63,
   "id": "80e182c7-2643-4eef-a201-4c2745d4ffee",
   "metadata": {},
   "outputs": [
    {
     "name": "stdout",
     "output_type": "stream",
     "text": [
      "name:Vijay\n",
      "age:31\n",
      "cgpa:7.4\n",
      "Name:Vijay\n"
     ]
    }
   ],
   "source": [
    "#example\n",
    "def info(**kwargs):\n",
    "    for key, value in kwargs.items():\n",
    "        print(f\"{key}:{value}\")\n",
    "    name=kwargs[\"name\"]\n",
    "    print(f\"Name:{name}\")\n",
    "info(name='Vijay', age=31 , cgpa=7.4)"
   ]
  },
  {
   "cell_type": "code",
   "execution_count": 87,
   "id": "7d686ca7-6de6-4f68-af5a-bb6ccdbb5770",
   "metadata": {},
   "outputs": [
    {
     "name": "stdout",
     "output_type": "stream",
     "text": [
      "name\n",
      "age\n",
      "cgpa\n"
     ]
    }
   ],
   "source": [
    "def info(**kwargs):\n",
    "    for key in kwargs.keys():\n",
    "        print(key)\n",
    "info(name='vijay',age=9,cgpa=7.9)"
   ]
  },
  {
   "cell_type": "code",
   "execution_count": null,
   "id": "a9425f4d-945f-438f-9c67-b216b1885d55",
   "metadata": {},
   "outputs": [],
   "source": []
  }
 ],
 "metadata": {
  "kernelspec": {
   "display_name": "Python 3 (ipykernel)",
   "language": "python",
   "name": "python3"
  },
  "language_info": {
   "codemirror_mode": {
    "name": "ipython",
    "version": 3
   },
   "file_extension": ".py",
   "mimetype": "text/x-python",
   "name": "python",
   "nbconvert_exporter": "python",
   "pygments_lexer": "ipython3",
   "version": "3.12.7"
  }
 },
 "nbformat": 4,
 "nbformat_minor": 5
}
